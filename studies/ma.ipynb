{
 "cells": [
  {
   "cell_type": "code",
   "execution_count": 28,
   "metadata": {},
   "outputs": [
    {
     "name": "stdout",
     "output_type": "stream",
     "text": [
      "The autoreload extension is already loaded. To reload it, use:\n",
      "  %reload_ext autoreload\n"
     ]
    }
   ],
   "source": [
    "import pandas\n",
    "from fppylec import main, forecast, optimization\n",
    "from datetime import datetime, timedelta\n",
    "import plotly.express as px\n",
    "import logging\n",
    "from tabulate import tabulate\n",
    "logger = logging.getLogger()\n",
    "logger.setLevel(logging.CRITICAL)\n",
    "%load_ext autoreload\n",
    "%autoreload 2\n",
    "\n",
    "layout = {\n",
    "    'showlegend': False,\n",
    "    'margin': {'b':10, 'l':20, 'r':50, 't':50},\n",
    "    'font': {'size': 19},\n",
    "    'xaxis': {'zerolinewidth': 2,  'zerolinecolor':'white'},\n",
    "    'yaxis': {'zerolinewidth': 2, 'zerolinecolor':'white'},\n",
    "    'template': 'plotly_dark',\n",
    "}\n",
    "px.defaults.color_discrete_sequence = px.colors.qualitative.T10"
   ]
  },
  {
   "cell_type": "markdown",
   "metadata": {},
   "source": [
    "# Inputs"
   ]
  },
  {
   "cell_type": "code",
   "execution_count": 26,
   "metadata": {},
   "outputs": [],
   "source": [
    "# Filenames (correct folder)\n",
    "batch = 0\n",
    "nb_houses = [10, 30, 95]\n",
    "inputfiles = [f'data/{x}_{batch}.pickle' for x in nb_houses]\n",
    "outputfile = 'result.pickle'\n",
    "\n",
    "# Simulation period\n",
    "start= '2019-05-01 00:00:00'\n",
    "start = datetime.strptime(start, '%Y-%m-%d %H:%M:%S')\n",
    "end = '2019-05-10 23:45:00'\n",
    "end = datetime.strptime(end, '%Y-%m-%d %H:%M:%S')\n",
    "f_horizon = timedelta(days=2) - timedelta(minutes=15)\n",
    "f_train_period = timedelta(days=14)\n",
    "\n",
    "# Simulation variable (forecasting method)\n",
    "f_method = forecast.ma\n",
    "f_kwarg = {}\n",
    "control_func = optimization.pool"
   ]
  },
  {
   "cell_type": "markdown",
   "metadata": {},
   "source": [
    "# Running simulation"
   ]
  },
  {
   "cell_type": "code",
   "execution_count": 30,
   "metadata": {},
   "outputs": [
    {
     "name": "stdout",
     "output_type": "stream",
     "text": [
      "Using data/10_0.pickle out of ['data/10_0.pickle', 'data/30_0.pickle', 'data/95_0.pickle']\n",
      "Time elapsed (hh:mm:ss.ms) 0:00:02.145610\n",
      "\n",
      "Using data/30_0.pickle out of ['data/10_0.pickle', 'data/30_0.pickle', 'data/95_0.pickle']\n",
      "Time elapsed (hh:mm:ss.ms) 0:00:02.143897\n",
      "\n",
      "Using data/95_0.pickle out of ['data/10_0.pickle', 'data/30_0.pickle', 'data/95_0.pickle']\n",
      "Time elapsed (hh:mm:ss.ms) 0:00:02.290902\n",
      "\n",
      "+----+---------+----------+---------------+--------+-----------+-----------+---------+----------+\n",
      "|    |   index |   MAPE_% |   MAPE_9a8p_% |   MASE |   scons_% |   ssuff_% |   ME_kW |   MAE_kW |\n",
      "|----+---------+----------+---------------+--------+-----------+-----------+---------+----------|\n",
      "|  0 |      10 |    34.72 |         25.66 |   2.24 |   75.0851 |   68.709  |   -0.07 |     1.49 |\n",
      "|  1 |      30 |    22.94 |         17.46 |   2.29 |   77.8298 |   72.2838 |    0.26 |     2.96 |\n",
      "|  2 |      95 |    20.56 |         13.52 |   3.03 |   77.1945 |   73.6328 |   -0.53 |     7.94 |\n",
      "+----+---------+----------+---------------+--------+-----------+-----------+---------+----------+\n",
      "\n",
      "------\n",
      "Total time elapsed (hh:mm:ss) 0:00:06.757381\n",
      "\n"
     ]
    }
   ],
   "source": [
    "_start_time = datetime.now()\n",
    "metrics = pandas.DataFrame()\n",
    "\n",
    "for inputfile, nb_house in zip(inputfiles, nb_houses):\n",
    "    print(f'Using {inputfile} out of {inputfiles}')\n",
    "    df = pandas.read_pickle(inputfile)\n",
    "    df = df.loc[:, ['vo_houses_kW', 'vo_pv_coef']]\n",
    "\n",
    "    # Assert timing\n",
    "    assert start in df.index\n",
    "    assert end in df.index\n",
    "    assert int(pandas.infer_freq(df.index)[:-1]) == 15\n",
    "\n",
    "    # Assert overall consumption (20000kWh is a lot)\n",
    "    assert df['vo_houses_kW'].sum() * 15/60 / nb_house < 20000, f'Total conso {df[\"vo_houses_kW\"].sum()}'\n",
    "\n",
    "    # Assert PV\n",
    "    assert df['vo_pv_coef'].min() >= 0\n",
    "    assert df['vo_pv_coef'].max() <= 1.01, f'Max PV coef = {df[\"vo_pv_coef\"].max()}'\n",
    "    \n",
    "    ###########\n",
    "    ### RUN ###\n",
    "    ###########\n",
    "    pv_capacity = 3 * nb_house  # kW\n",
    "    battery_kWh = 6 * nb_house   # kWh\n",
    "    battery_kW = 2 * nb_house  # kW\n",
    "    result = main.main(df.asfreq('15T'), start, end, pv_capacity, battery_kWh, battery_kW,\n",
    "                  f_method, f_kwarg, f_horizon, f_train_period, control_func)\n",
    "    \n",
    "    # Save\n",
    "    result['index'] = nb_house\n",
    "    result['filename'] = inputfile\n",
    "    result['algo'] = f'{f_method.__name__}'\n",
    "    result['batch'] = batch\n",
    "    metrics = metrics.append(result, ignore_index=True)\n",
    "\n",
    "print(tabulate(\n",
    "    metrics[['index', 'MAPE_%', 'MAPE_9a8p_%', 'MASE',\n",
    "             'scons_%', 'ssuff_%',\n",
    "             'ME_kW', 'MAE_kW']],\n",
    "    headers='keys', tablefmt='psql'))\n",
    "print('')\n",
    "print('------')\n",
    "_time_elapsed = datetime.now() - _start_time\n",
    "print('Total time elapsed (hh:mm:ss) {}'.format(_time_elapsed))\n",
    "print('')"
   ]
  },
  {
   "cell_type": "markdown",
   "metadata": {},
   "source": [
    "# Visualization"
   ]
  },
  {
   "cell_type": "code",
   "execution_count": null,
   "metadata": {},
   "outputs": [],
   "source": [
    "# plot metrics as a function of nb houses"
   ]
  },
  {
   "cell_type": "code",
   "execution_count": null,
   "metadata": {},
   "outputs": [],
   "source": [
    "# Draw relation between value and quality"
   ]
  }
 ],
 "metadata": {
  "kernelspec": {
   "display_name": "Jonathan",
   "language": "python",
   "name": "jonathan"
  },
  "language_info": {
   "codemirror_mode": {
    "name": "ipython",
    "version": 3
   },
   "file_extension": ".py",
   "mimetype": "text/x-python",
   "name": "python",
   "nbconvert_exporter": "python",
   "pygments_lexer": "ipython3",
   "version": "3.8.5"
  }
 },
 "nbformat": 4,
 "nbformat_minor": 4
}
