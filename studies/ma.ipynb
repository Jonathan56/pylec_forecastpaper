{
 "cells": [
  {
   "cell_type": "code",
   "execution_count": null,
   "metadata": {},
   "outputs": [],
   "source": [
    "import pandas\n",
    "from fppylec import main, forecast, optimization\n",
    "from datetime import datetime, timedelta\n",
    "import plotly.express as px\n",
    "import logging\n",
    "import tabulate\n",
    "logger = logging.getLogger()\n",
    "logger.setLevel(logging.CRITICAL)\n",
    "%load_ext autoreload\n",
    "%autoreload 2\n",
    "\n",
    "layout = {\n",
    "    'showlegend': False,\n",
    "    'margin': {'b':10, 'l':20, 'r':50, 't':50},\n",
    "    'font': {'size': 19},\n",
    "    'xaxis': {'zerolinewidth': 2,  'zerolinecolor':'white'},\n",
    "    'yaxis': {'zerolinewidth': 2, 'zerolinecolor':'white'},\n",
    "    'template': 'plotly_dark',\n",
    "}\n",
    "px.defaults.color_discrete_sequence = px.colors.qualitative.T10"
   ]
  },
  {
   "cell_type": "markdown",
   "metadata": {},
   "source": [
    "# Inputs"
   ]
  },
  {
   "cell_type": "code",
   "execution_count": null,
   "metadata": {},
   "outputs": [],
   "source": [
    "# Filenames (correct folder)\n",
    "batch = 0\n",
    "nb_houses = []\n",
    "inputfiles = ['database/15min_houses_pv_042014_052015_v0001.csv']\n",
    "outputfile = 'result.pickle'\n",
    "\n",
    "# Simulation period\n",
    "start= '2014-05-01 00:00:00'\n",
    "start = datetime.strptime(start, '%Y-%m-%d %H:%M:%S')\n",
    "end = '2014-05-10 23:45:00'\n",
    "end = datetime.strptime(end, '%Y-%m-%d %H:%M:%S')\n",
    "f_horizon = timedelta(days=2) - timedelta(minutes=15)\n",
    "training_period = timedelta(days=14)\n",
    "one_day = timedelta(hours=23, minutes=45)\n",
    "\n",
    "# Simulation variable (forecasting method)\n",
    "f_method = forecast.ma\n",
    "f_kwargs = {}\n",
    "control_func = optimization.pool"
   ]
  },
  {
   "cell_type": "markdown",
   "metadata": {},
   "source": [
    "# Running simulation"
   ]
  },
  {
   "cell_type": "code",
   "execution_count": null,
   "metadata": {},
   "outputs": [],
   "source": [
    "_start_time = datetime.now()\n",
    "metrics = pandas.DataFrame()\n",
    "\n",
    "for inputfile, nb_house in zip(inputfiles, nb_houses):\n",
    "    print(f'Using {inputfile} out of {inputfiles}')\n",
    "    df = pandas.read_pickle(inputfile)\n",
    "    df = df.loc[:, ['vo_houses_kW', 'vo_pv_coef']]\n",
    "\n",
    "    # Assert timing\n",
    "    assert start in df.index\n",
    "    assert end in df.index\n",
    "    assert int(pandas.infer_freq(df.index)[:-1]) == 15\n",
    "\n",
    "    # Assert overall consumption (20000kWh is a lot)\n",
    "    assert df['vo_houses_kW'].sum() * 15/60 / nb_houses < 20000, f'Total conso {df[\"vo_houses_kW\"].sum()}'\n",
    "\n",
    "    # Assert PV\n",
    "    assert df['vo_pv_coef'].min() >= 0\n",
    "    assert df['vo_pv_coef'].max() <= 1.01, f'Max PV coef = {df[\"vo_pv_coef\"].max()}'\n",
    "    \n",
    "    ###########\n",
    "    ### RUN ###\n",
    "    ###########\n",
    "    pv_capacity = 3 * nb_house  # kW\n",
    "    battery_kWh = 6 * nb_house   # kWh\n",
    "    battery_kW = 2 * nb_house  # kW\n",
    "    result = main(df, start, end, pv_capacity, battery_kWh, battery_kW,\n",
    "                  f_method, f_kwarg, f_horizon, f_train_period, control_func)\n",
    "    \n",
    "    # Save\n",
    "    metric['index'] = nb_house\n",
    "    metric['filename'] = inputfile\n",
    "    metric['algo'] = f'{f_method.__name__}'\n",
    "    metrics = metrics.append(result, ignore_index=True)\n",
    "    metric['batch'] = batch\n",
    "\n",
    "print(tabulate(\n",
    "    metrics[['index', 'MAPE_%', 'MAPE_9a8p_%', 'MASE',\n",
    "             'scons_%', 'ssuff_%',\n",
    "             'ME_kW', 'MAE_kW']],\n",
    "    headers='keys', tablefmt='psql'))\n",
    "print('')\n",
    "print('------')\n",
    "_time_elapsed = datetime.now() - _start_time\n",
    "print('Total time elapsed (hh:mm:ss) {}'.format(_time_elapsed))\n",
    "print('')"
   ]
  },
  {
   "cell_type": "markdown",
   "metadata": {},
   "source": [
    "# Visualization"
   ]
  },
  {
   "cell_type": "code",
   "execution_count": null,
   "metadata": {},
   "outputs": [],
   "source": [
    "# plot metrics as a function of nb houses"
   ]
  },
  {
   "cell_type": "code",
   "execution_count": null,
   "metadata": {},
   "outputs": [],
   "source": [
    "# Draw relation between value and quality"
   ]
  }
 ],
 "metadata": {
  "kernelspec": {
   "display_name": "Jonathan",
   "language": "python",
   "name": "jonathan"
  },
  "language_info": {
   "codemirror_mode": {
    "name": "ipython",
    "version": 3
   },
   "file_extension": ".py",
   "mimetype": "text/x-python",
   "name": "python",
   "nbconvert_exporter": "python",
   "pygments_lexer": "ipython3",
   "version": "3.8.5"
  }
 },
 "nbformat": 4,
 "nbformat_minor": 4
}
